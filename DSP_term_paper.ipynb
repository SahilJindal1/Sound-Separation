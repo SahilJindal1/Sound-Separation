{
  "nbformat": 4,
  "nbformat_minor": 0,
  "metadata": {
    "colab": {
      "name": "DSP term paper.ipynb",
      "provenance": [],
      "collapsed_sections": []
    },
    "kernelspec": {
      "name": "python3",
      "display_name": "Python 3"
    },
    "accelerator": "GPU"
  },
  "cells": [
    {
      "cell_type": "code",
      "metadata": {
        "id": "p9zfwoSG8Y51",
        "colab_type": "code",
        "outputId": "fd01b513-0a64-4097-fa09-faab9e281e6a",
        "colab": {
          "base_uri": "https://localhost:8080/",
          "height": 67
        }
      },
      "source": [
        "import numpy as np\n",
        "\n",
        "from scipy.io import wavfile\n",
        "fs, data = wavfile.read('mixture.wav')\n",
        "print(data.shape)\n",
        "x = np.zeros((len(data)))\n",
        "for i in range(0,len(data)-1):\n",
        "  x[i] = (data[i,0] + data[i,1])/2"
      ],
      "execution_count": 0,
      "outputs": [
        {
          "output_type": "stream",
          "text": [
            "(8678574, 2)\n"
          ],
          "name": "stdout"
        },
        {
          "output_type": "stream",
          "text": [
            "/usr/local/lib/python3.6/dist-packages/ipykernel_launcher.py:8: RuntimeWarning: overflow encountered in short_scalars\n",
            "  \n"
          ],
          "name": "stderr"
        }
      ]
    },
    {
      "cell_type": "code",
      "metadata": {
        "id": "u6FOyVjQ5ARI",
        "colab_type": "code",
        "outputId": "765096fc-aa2d-44d4-a82f-289396db058d",
        "colab": {
          "base_uri": "https://localhost:8080/",
          "height": 34
        }
      },
      "source": [
        "from scipy.io import wavfile\n",
        "fs_out, data_out = wavfile.read('bass.wav')\n",
        "data_out.shape\n",
        "x_out = np.zeros((len(data_out)))\n",
        "print(x_out.shape)\n"
      ],
      "execution_count": 0,
      "outputs": [
        {
          "output_type": "stream",
          "text": [
            "(8678574,)\n"
          ],
          "name": "stdout"
        }
      ]
    },
    {
      "cell_type": "code",
      "metadata": {
        "id": "Zl1Wo25jPF8z",
        "colab_type": "code",
        "colab": {}
      },
      "source": [
        "from scipy import signal\n",
        "import matplotlib.pyplot as plt\n",
        "\n",
        "f, t, Zxx = signal.stft(x, fs, window = 'hanning', nperseg=2048,noverlap=512)\n",
        "\n",
        "f_out,t_out,Zxx_out = signal.stft(x_out, fs_out, window = 'hanning', nperseg=2048,noverlap=512)"
      ],
      "execution_count": 0,
      "outputs": []
    },
    {
      "cell_type": "code",
      "metadata": {
        "id": "69WFKCuwEmjI",
        "colab_type": "code",
        "outputId": "193e1e6f-4027-40c0-f1f7-00540816a91b",
        "colab": {
          "base_uri": "https://localhost:8080/",
          "height": 134
        }
      },
      "source": [
        "Zxx"
      ],
      "execution_count": 0,
      "outputs": [
        {
          "output_type": "execute_result",
          "data": {
            "text/plain": [
              "array([[0.+0.j, 0.+0.j, 0.+0.j, ..., 0.+0.j, 0.+0.j, 0.+0.j],\n",
              "       [0.+0.j, 0.+0.j, 0.+0.j, ..., 0.+0.j, 0.+0.j, 0.+0.j],\n",
              "       [0.+0.j, 0.+0.j, 0.+0.j, ..., 0.+0.j, 0.+0.j, 0.+0.j],\n",
              "       ...,\n",
              "       [0.+0.j, 0.+0.j, 0.+0.j, ..., 0.+0.j, 0.+0.j, 0.+0.j],\n",
              "       [0.+0.j, 0.+0.j, 0.+0.j, ..., 0.+0.j, 0.+0.j, 0.+0.j],\n",
              "       [0.+0.j, 0.+0.j, 0.+0.j, ..., 0.+0.j, 0.+0.j, 0.+0.j]])"
            ]
          },
          "metadata": {
            "tags": []
          },
          "execution_count": 89
        }
      ]
    },
    {
      "cell_type": "code",
      "metadata": {
        "id": "z2JV8aBgEs59",
        "colab_type": "code",
        "colab": {}
      },
      "source": [
        "Zxx = abs(Zxx)\n",
        "Zxx_out = abs(Zxx_out)"
      ],
      "execution_count": 0,
      "outputs": []
    },
    {
      "cell_type": "code",
      "metadata": {
        "id": "sfUa9taeE_39",
        "colab_type": "code",
        "outputId": "24423e3c-a478-4c63-e036-e354ada62fbd",
        "colab": {
          "base_uri": "https://localhost:8080/",
          "height": 101
        }
      },
      "source": [
        "print(Zxx.shape)\n",
        "print(f)\n",
        "print(t)"
      ],
      "execution_count": 0,
      "outputs": [
        {
          "output_type": "stream",
          "text": [
            "(1025, 5652)\n",
            "[0.00000000e+00 2.15332031e+01 4.30664062e+01 ... 2.20069336e+04\n",
            " 2.20284668e+04 2.20500000e+04]\n",
            "[0.00000000e+00 3.48299320e-02 6.96598639e-02 ... 1.96754286e+02\n",
            " 1.96789116e+02 1.96823946e+02]\n"
          ],
          "name": "stdout"
        }
      ]
    },
    {
      "cell_type": "code",
      "metadata": {
        "id": "mjVvkiLpkGmV",
        "colab_type": "code",
        "colab": {}
      },
      "source": [
        "in_matrix = np.zeros((len(Zxx[1,])//15,15, len(Zxx),1))\n",
        "out_matrix = np.zeros((len(Zxx_out[1,])//15,15, len(Zxx_out),1))"
      ],
      "execution_count": 0,
      "outputs": []
    },
    {
      "cell_type": "code",
      "metadata": {
        "id": "_vBA6FkIjwwd",
        "colab_type": "code",
        "colab": {}
      },
      "source": [
        "for i in range(0,len(Zxx[1,])-1):\n",
        "  for j in range(0,len(Zxx)):\n",
        "    in_matrix[i//15-1,i % 15 ,j,0] = Zxx[j,i]    \n",
        "    \n",
        "for i in range(0,len(Zxx_out[1,])-1):\n",
        "  for j in range(0,len(Zxx_out)):\n",
        "    out_matrix[i//15-1,i % 15 ,j,0] = Zxx_out[j,i]    \n"
      ],
      "execution_count": 0,
      "outputs": []
    },
    {
      "cell_type": "code",
      "metadata": {
        "id": "GhCiUDL9uqaj",
        "colab_type": "code",
        "outputId": "e6920b3f-7f33-4bb9-b9b6-2715d194d020",
        "colab": {
          "base_uri": "https://localhost:8080/",
          "height": 50
        }
      },
      "source": [
        "print(in_matrix.shape)\n",
        "print(out_matrix.shape)"
      ],
      "execution_count": 0,
      "outputs": [
        {
          "output_type": "stream",
          "text": [
            "(376, 15, 1025, 1)\n",
            "(376, 15, 1025, 1)\n"
          ],
          "name": "stdout"
        }
      ]
    },
    {
      "cell_type": "code",
      "metadata": {
        "id": "cMNfRAbA9fal",
        "colab_type": "code",
        "outputId": "ace890f2-5711-4701-97ae-bd2def53c362",
        "colab": {
          "base_uri": "https://localhost:8080/",
          "height": 34
        }
      },
      "source": [
        "out_matrix.shape"
      ],
      "execution_count": 0,
      "outputs": [
        {
          "output_type": "execute_result",
          "data": {
            "text/plain": [
              "(376, 15, 1025, 1)"
            ]
          },
          "metadata": {
            "tags": []
          },
          "execution_count": 95
        }
      ]
    },
    {
      "cell_type": "code",
      "metadata": {
        "id": "0V_q7rhz-yR4",
        "colab_type": "code",
        "colab": {}
      },
      "source": [
        "from keras.models import Sequential\n",
        "from keras.layers import Conv2D, MaxPooling2D,UpSampling2D\n",
        "#create model\n",
        "model = Sequential()\n",
        "#add model layers\n",
        "model.add(Conv2D(12, kernel_size=3, activation='relu',padding='same')) #13*1023*12\n",
        "model.add(MaxPooling2D(pool_size=(3, 5), strides=None, padding='same', data_format=None))#4*204*12\n",
        "model.add(Conv2D(20, kernel_size=3, activation='relu',padding='same'))#2*202*20\n",
        "model.add(MaxPooling2D(pool_size=(1, 5), strides=None, padding='same', data_format=None))#2*40*20\n",
        "model.add(Conv2D(30, kernel_size=3, activation='relu',padding='same'))#2*40*20 --------------------------\n",
        "model.add(Conv2D(40, kernel_size=3, activation='relu',padding='same'))\n",
        "model.add(Conv2D(30, kernel_size=3, activation='relu',padding='same'))\n",
        "model.add(Conv2D(20, kernel_size=3, activation='relu',padding='same'))\n",
        "model.add(UpSampling2D(size=(1, 5), data_format=None, interpolation='nearest'))\n",
        "model.add(Conv2D(12, kernel_size=3, activation='relu',padding='same'))\n",
        "model.add(UpSampling2D(size=(3, 5), data_format=None, interpolation='nearest'))\n",
        "model.add(Conv2D(1, kernel_size=3, activation='relu',padding='same'))\n",
        "model.compile(loss='binary_crossentropy', optimizer='adam', metrics=['accuracy'])"
      ],
      "execution_count": 0,
      "outputs": []
    },
    {
      "cell_type": "code",
      "metadata": {
        "id": "2_aunaXl9lAc",
        "colab_type": "code",
        "outputId": "b0b6513c-43d5-42a8-912e-ad21127cecda",
        "colab": {
          "base_uri": "https://localhost:8080/",
          "height": 1000
        }
      },
      "source": [
        "model.fit(in_matrix, out_matrix, epochs=150, batch_size=10)"
      ],
      "execution_count": 0,
      "outputs": [
        {
          "output_type": "stream",
          "text": [
            "Epoch 1/150\n",
            "376/376 [==============================] - 2s 4ms/step - loss: 5.1031e-04 - acc: 1.0000\n",
            "Epoch 2/150\n",
            "376/376 [==============================] - 1s 2ms/step - loss: 1.0000e-07 - acc: 1.0000\n",
            "Epoch 3/150\n",
            "376/376 [==============================] - 1s 2ms/step - loss: 1.0000e-07 - acc: 1.0000\n",
            "Epoch 4/150\n",
            "376/376 [==============================] - 1s 2ms/step - loss: 1.0000e-07 - acc: 1.0000\n",
            "Epoch 5/150\n",
            "376/376 [==============================] - 1s 2ms/step - loss: 1.0000e-07 - acc: 1.0000\n",
            "Epoch 6/150\n",
            "376/376 [==============================] - 1s 2ms/step - loss: 1.0000e-07 - acc: 1.0000\n",
            "Epoch 7/150\n",
            "376/376 [==============================] - 1s 2ms/step - loss: 1.0000e-07 - acc: 1.0000\n",
            "Epoch 8/150\n",
            "376/376 [==============================] - 1s 2ms/step - loss: 1.0000e-07 - acc: 1.0000\n",
            "Epoch 9/150\n",
            "376/376 [==============================] - 1s 2ms/step - loss: 1.0000e-07 - acc: 1.0000\n",
            "Epoch 10/150\n",
            "376/376 [==============================] - 1s 2ms/step - loss: 1.0000e-07 - acc: 1.0000\n",
            "Epoch 11/150\n",
            "376/376 [==============================] - 1s 2ms/step - loss: 1.0000e-07 - acc: 1.0000\n",
            "Epoch 12/150\n",
            "376/376 [==============================] - 1s 2ms/step - loss: 1.0000e-07 - acc: 1.0000\n",
            "Epoch 13/150\n",
            "376/376 [==============================] - 1s 2ms/step - loss: 1.0000e-07 - acc: 1.0000\n",
            "Epoch 14/150\n",
            "376/376 [==============================] - 1s 2ms/step - loss: 1.0000e-07 - acc: 1.0000\n",
            "Epoch 15/150\n",
            "376/376 [==============================] - 1s 2ms/step - loss: 1.0000e-07 - acc: 1.0000\n",
            "Epoch 16/150\n",
            "376/376 [==============================] - 1s 2ms/step - loss: 1.0000e-07 - acc: 1.0000\n",
            "Epoch 17/150\n",
            "376/376 [==============================] - 1s 2ms/step - loss: 1.0000e-07 - acc: 1.0000\n",
            "Epoch 18/150\n",
            "376/376 [==============================] - 1s 2ms/step - loss: 1.0000e-07 - acc: 1.0000\n",
            "Epoch 19/150\n",
            "376/376 [==============================] - 1s 2ms/step - loss: 1.0000e-07 - acc: 1.0000\n",
            "Epoch 20/150\n",
            "376/376 [==============================] - 1s 2ms/step - loss: 1.0000e-07 - acc: 1.0000\n",
            "Epoch 21/150\n",
            "376/376 [==============================] - 1s 2ms/step - loss: 1.0000e-07 - acc: 1.0000\n",
            "Epoch 22/150\n",
            "376/376 [==============================] - 1s 2ms/step - loss: 1.0000e-07 - acc: 1.0000\n",
            "Epoch 23/150\n",
            "376/376 [==============================] - 1s 2ms/step - loss: 1.0000e-07 - acc: 1.0000\n",
            "Epoch 24/150\n",
            "376/376 [==============================] - 1s 2ms/step - loss: 1.0000e-07 - acc: 1.0000\n",
            "Epoch 25/150\n",
            "376/376 [==============================] - 1s 2ms/step - loss: 1.0000e-07 - acc: 1.0000\n",
            "Epoch 26/150\n",
            "376/376 [==============================] - 1s 2ms/step - loss: 1.0000e-07 - acc: 1.0000\n",
            "Epoch 27/150\n",
            "376/376 [==============================] - 1s 2ms/step - loss: 1.0000e-07 - acc: 1.0000\n",
            "Epoch 28/150\n",
            "376/376 [==============================] - 1s 2ms/step - loss: 1.0000e-07 - acc: 1.0000\n",
            "Epoch 29/150\n",
            "376/376 [==============================] - 1s 2ms/step - loss: 1.0000e-07 - acc: 1.0000\n",
            "Epoch 30/150\n",
            "376/376 [==============================] - 1s 2ms/step - loss: 1.0000e-07 - acc: 1.0000\n",
            "Epoch 31/150\n",
            "376/376 [==============================] - 1s 2ms/step - loss: 1.0000e-07 - acc: 1.0000\n",
            "Epoch 32/150\n",
            "376/376 [==============================] - 1s 2ms/step - loss: 1.0000e-07 - acc: 1.0000\n",
            "Epoch 33/150\n",
            "376/376 [==============================] - 1s 2ms/step - loss: 1.0000e-07 - acc: 1.0000\n",
            "Epoch 34/150\n",
            "376/376 [==============================] - 1s 2ms/step - loss: 1.0000e-07 - acc: 1.0000\n",
            "Epoch 35/150\n",
            "376/376 [==============================] - 1s 2ms/step - loss: 1.0000e-07 - acc: 1.0000\n",
            "Epoch 36/150\n",
            "376/376 [==============================] - 1s 2ms/step - loss: 1.0000e-07 - acc: 1.0000\n",
            "Epoch 37/150\n",
            "376/376 [==============================] - 1s 2ms/step - loss: 1.0000e-07 - acc: 1.0000\n",
            "Epoch 38/150\n",
            "376/376 [==============================] - 1s 2ms/step - loss: 1.0000e-07 - acc: 1.0000\n",
            "Epoch 39/150\n",
            "376/376 [==============================] - 1s 2ms/step - loss: 1.0000e-07 - acc: 1.0000\n",
            "Epoch 40/150\n",
            "376/376 [==============================] - 1s 2ms/step - loss: 1.0000e-07 - acc: 1.0000\n",
            "Epoch 41/150\n",
            "376/376 [==============================] - 1s 2ms/step - loss: 1.0000e-07 - acc: 1.0000\n",
            "Epoch 42/150\n",
            "376/376 [==============================] - 1s 2ms/step - loss: 1.0000e-07 - acc: 1.0000\n",
            "Epoch 43/150\n",
            "376/376 [==============================] - 1s 2ms/step - loss: 1.0000e-07 - acc: 1.0000\n",
            "Epoch 44/150\n",
            "376/376 [==============================] - 1s 2ms/step - loss: 1.0000e-07 - acc: 1.0000\n",
            "Epoch 45/150\n",
            "376/376 [==============================] - 1s 2ms/step - loss: 1.0000e-07 - acc: 1.0000\n",
            "Epoch 46/150\n",
            "376/376 [==============================] - 1s 2ms/step - loss: 1.0000e-07 - acc: 1.0000\n",
            "Epoch 47/150\n",
            "376/376 [==============================] - 1s 2ms/step - loss: 1.0000e-07 - acc: 1.0000\n",
            "Epoch 48/150\n",
            "376/376 [==============================] - 1s 2ms/step - loss: 1.0000e-07 - acc: 1.0000\n",
            "Epoch 49/150\n",
            "376/376 [==============================] - 1s 2ms/step - loss: 1.0000e-07 - acc: 1.0000\n",
            "Epoch 50/150\n",
            "376/376 [==============================] - 1s 2ms/step - loss: 1.0000e-07 - acc: 1.0000\n",
            "Epoch 51/150\n",
            "376/376 [==============================] - 1s 2ms/step - loss: 1.0000e-07 - acc: 1.0000\n",
            "Epoch 52/150\n",
            "376/376 [==============================] - 1s 2ms/step - loss: 1.0000e-07 - acc: 1.0000\n",
            "Epoch 53/150\n",
            "376/376 [==============================] - 1s 2ms/step - loss: 1.0000e-07 - acc: 1.0000\n",
            "Epoch 54/150\n",
            "376/376 [==============================] - 1s 2ms/step - loss: 1.0000e-07 - acc: 1.0000\n",
            "Epoch 55/150\n",
            "376/376 [==============================] - 1s 2ms/step - loss: 1.0000e-07 - acc: 1.0000\n",
            "Epoch 56/150\n",
            "376/376 [==============================] - 1s 3ms/step - loss: 1.0000e-07 - acc: 1.0000\n",
            "Epoch 57/150\n",
            "376/376 [==============================] - 1s 2ms/step - loss: 1.0000e-07 - acc: 1.0000\n",
            "Epoch 58/150\n",
            "376/376 [==============================] - 1s 2ms/step - loss: 1.0000e-07 - acc: 1.0000\n",
            "Epoch 59/150\n",
            "376/376 [==============================] - 1s 2ms/step - loss: 1.0000e-07 - acc: 1.0000\n",
            "Epoch 60/150\n",
            "376/376 [==============================] - 1s 2ms/step - loss: 1.0000e-07 - acc: 1.0000\n",
            "Epoch 61/150\n",
            "376/376 [==============================] - 1s 2ms/step - loss: 1.0000e-07 - acc: 1.0000\n",
            "Epoch 62/150\n",
            "376/376 [==============================] - 1s 2ms/step - loss: 1.0000e-07 - acc: 1.0000\n",
            "Epoch 63/150\n",
            "376/376 [==============================] - 1s 2ms/step - loss: 1.0000e-07 - acc: 1.0000\n",
            "Epoch 64/150\n",
            "376/376 [==============================] - 1s 2ms/step - loss: 1.0000e-07 - acc: 1.0000\n",
            "Epoch 65/150\n",
            "376/376 [==============================] - 1s 2ms/step - loss: 1.0000e-07 - acc: 1.0000\n",
            "Epoch 66/150\n",
            "376/376 [==============================] - 1s 2ms/step - loss: 1.0000e-07 - acc: 1.0000\n",
            "Epoch 67/150\n",
            "376/376 [==============================] - 1s 2ms/step - loss: 1.0000e-07 - acc: 1.0000\n",
            "Epoch 68/150\n",
            "376/376 [==============================] - 1s 2ms/step - loss: 1.0000e-07 - acc: 1.0000\n",
            "Epoch 69/150\n",
            "376/376 [==============================] - 1s 2ms/step - loss: 1.0000e-07 - acc: 1.0000\n",
            "Epoch 70/150\n",
            "376/376 [==============================] - 1s 2ms/step - loss: 1.0000e-07 - acc: 1.0000\n",
            "Epoch 71/150\n",
            "376/376 [==============================] - 1s 2ms/step - loss: 1.0000e-07 - acc: 1.0000\n",
            "Epoch 72/150\n",
            "376/376 [==============================] - 1s 2ms/step - loss: 1.0000e-07 - acc: 1.0000\n",
            "Epoch 73/150\n",
            "376/376 [==============================] - 1s 2ms/step - loss: 1.0000e-07 - acc: 1.0000\n",
            "Epoch 74/150\n",
            "376/376 [==============================] - 1s 2ms/step - loss: 1.0000e-07 - acc: 1.0000\n",
            "Epoch 75/150\n",
            "376/376 [==============================] - 1s 2ms/step - loss: 1.0000e-07 - acc: 1.0000\n",
            "Epoch 76/150\n",
            "376/376 [==============================] - 1s 2ms/step - loss: 1.0000e-07 - acc: 1.0000\n",
            "Epoch 77/150\n",
            "376/376 [==============================] - 1s 2ms/step - loss: 1.0000e-07 - acc: 1.0000\n",
            "Epoch 78/150\n",
            "376/376 [==============================] - 1s 2ms/step - loss: 1.0000e-07 - acc: 1.0000\n",
            "Epoch 79/150\n",
            "376/376 [==============================] - 1s 2ms/step - loss: 1.0000e-07 - acc: 1.0000\n",
            "Epoch 80/150\n",
            "376/376 [==============================] - 1s 3ms/step - loss: 1.0000e-07 - acc: 1.0000\n",
            "Epoch 81/150\n",
            "376/376 [==============================] - 1s 2ms/step - loss: 1.0000e-07 - acc: 1.0000\n",
            "Epoch 82/150\n",
            "376/376 [==============================] - 1s 2ms/step - loss: 1.0000e-07 - acc: 1.0000\n",
            "Epoch 83/150\n",
            "376/376 [==============================] - 1s 2ms/step - loss: 1.0000e-07 - acc: 1.0000\n",
            "Epoch 84/150\n",
            "376/376 [==============================] - 1s 2ms/step - loss: 1.0000e-07 - acc: 1.0000\n",
            "Epoch 85/150\n",
            "376/376 [==============================] - 1s 2ms/step - loss: 1.0000e-07 - acc: 1.0000\n",
            "Epoch 86/150\n",
            "376/376 [==============================] - 1s 2ms/step - loss: 1.0000e-07 - acc: 1.0000\n",
            "Epoch 87/150\n",
            "376/376 [==============================] - 1s 2ms/step - loss: 1.0000e-07 - acc: 1.0000\n",
            "Epoch 88/150\n",
            "376/376 [==============================] - 1s 2ms/step - loss: 1.0000e-07 - acc: 1.0000\n",
            "Epoch 89/150\n",
            "376/376 [==============================] - 1s 2ms/step - loss: 1.0000e-07 - acc: 1.0000\n",
            "Epoch 90/150\n",
            "376/376 [==============================] - 1s 2ms/step - loss: 1.0000e-07 - acc: 1.0000\n",
            "Epoch 91/150\n",
            "376/376 [==============================] - 1s 2ms/step - loss: 1.0000e-07 - acc: 1.0000\n",
            "Epoch 92/150\n",
            "376/376 [==============================] - 1s 2ms/step - loss: 1.0000e-07 - acc: 1.0000\n",
            "Epoch 93/150\n",
            "376/376 [==============================] - 1s 2ms/step - loss: 1.0000e-07 - acc: 1.0000\n",
            "Epoch 94/150\n",
            "376/376 [==============================] - 1s 2ms/step - loss: 1.0000e-07 - acc: 1.0000\n",
            "Epoch 95/150\n",
            "376/376 [==============================] - 1s 2ms/step - loss: 1.0000e-07 - acc: 1.0000\n",
            "Epoch 96/150\n",
            "376/376 [==============================] - 1s 2ms/step - loss: 1.0000e-07 - acc: 1.0000\n",
            "Epoch 97/150\n",
            "376/376 [==============================] - 1s 2ms/step - loss: 1.0000e-07 - acc: 1.0000\n",
            "Epoch 98/150\n",
            "376/376 [==============================] - 1s 2ms/step - loss: 1.0000e-07 - acc: 1.0000\n",
            "Epoch 99/150\n",
            "376/376 [==============================] - 1s 2ms/step - loss: 1.0000e-07 - acc: 1.0000\n",
            "Epoch 100/150\n",
            "376/376 [==============================] - 1s 2ms/step - loss: 1.0000e-07 - acc: 1.0000\n",
            "Epoch 101/150\n",
            "376/376 [==============================] - 1s 2ms/step - loss: 1.0000e-07 - acc: 1.0000\n",
            "Epoch 102/150\n",
            "376/376 [==============================] - 1s 2ms/step - loss: 1.0000e-07 - acc: 1.0000\n",
            "Epoch 103/150\n",
            "376/376 [==============================] - 1s 2ms/step - loss: 1.0000e-07 - acc: 1.0000\n",
            "Epoch 104/150\n",
            "376/376 [==============================] - 1s 2ms/step - loss: 1.0000e-07 - acc: 1.0000\n",
            "Epoch 105/150\n",
            "376/376 [==============================] - 1s 2ms/step - loss: 1.0000e-07 - acc: 1.0000\n",
            "Epoch 106/150\n",
            "376/376 [==============================] - 1s 2ms/step - loss: 1.0000e-07 - acc: 1.0000\n",
            "Epoch 107/150\n",
            "376/376 [==============================] - 1s 2ms/step - loss: 1.0000e-07 - acc: 1.0000\n",
            "Epoch 108/150\n",
            "376/376 [==============================] - 1s 2ms/step - loss: 1.0000e-07 - acc: 1.0000\n",
            "Epoch 109/150\n",
            "376/376 [==============================] - 1s 2ms/step - loss: 1.0000e-07 - acc: 1.0000\n",
            "Epoch 110/150\n",
            "376/376 [==============================] - 1s 2ms/step - loss: 1.0000e-07 - acc: 1.0000\n",
            "Epoch 111/150\n",
            "376/376 [==============================] - 1s 2ms/step - loss: 1.0000e-07 - acc: 1.0000\n",
            "Epoch 112/150\n",
            "376/376 [==============================] - 1s 2ms/step - loss: 1.0000e-07 - acc: 1.0000\n",
            "Epoch 113/150\n",
            "376/376 [==============================] - 1s 2ms/step - loss: 1.0000e-07 - acc: 1.0000\n",
            "Epoch 114/150\n",
            "376/376 [==============================] - 1s 2ms/step - loss: 1.0000e-07 - acc: 1.0000\n",
            "Epoch 115/150\n",
            "376/376 [==============================] - 1s 2ms/step - loss: 1.0000e-07 - acc: 1.0000\n",
            "Epoch 116/150\n",
            "376/376 [==============================] - 1s 2ms/step - loss: 1.0000e-07 - acc: 1.0000\n",
            "Epoch 117/150\n",
            "376/376 [==============================] - 1s 2ms/step - loss: 1.0000e-07 - acc: 1.0000\n",
            "Epoch 118/150\n",
            "376/376 [==============================] - 1s 2ms/step - loss: 1.0000e-07 - acc: 1.0000\n",
            "Epoch 119/150\n",
            "376/376 [==============================] - 1s 2ms/step - loss: 1.0000e-07 - acc: 1.0000\n",
            "Epoch 120/150\n",
            "376/376 [==============================] - 1s 2ms/step - loss: 1.0000e-07 - acc: 1.0000\n",
            "Epoch 121/150\n",
            "376/376 [==============================] - 1s 2ms/step - loss: 1.0000e-07 - acc: 1.0000\n",
            "Epoch 122/150\n",
            "376/376 [==============================] - 1s 2ms/step - loss: 1.0000e-07 - acc: 1.0000\n",
            "Epoch 123/150\n",
            "376/376 [==============================] - 1s 2ms/step - loss: 1.0000e-07 - acc: 1.0000\n",
            "Epoch 124/150\n",
            "376/376 [==============================] - 1s 2ms/step - loss: 1.0000e-07 - acc: 1.0000\n",
            "Epoch 125/150\n",
            "376/376 [==============================] - 1s 2ms/step - loss: 1.0000e-07 - acc: 1.0000\n",
            "Epoch 126/150\n",
            "376/376 [==============================] - 1s 2ms/step - loss: 1.0000e-07 - acc: 1.0000\n",
            "Epoch 127/150\n",
            "376/376 [==============================] - 1s 2ms/step - loss: 1.0000e-07 - acc: 1.0000\n",
            "Epoch 128/150\n",
            "376/376 [==============================] - 1s 2ms/step - loss: 1.0000e-07 - acc: 1.0000\n",
            "Epoch 129/150\n",
            "376/376 [==============================] - 1s 2ms/step - loss: 1.0000e-07 - acc: 1.0000\n",
            "Epoch 130/150\n",
            "376/376 [==============================] - 1s 2ms/step - loss: 1.0000e-07 - acc: 1.0000\n",
            "Epoch 131/150\n",
            "376/376 [==============================] - 1s 2ms/step - loss: 1.0000e-07 - acc: 1.0000\n",
            "Epoch 132/150\n",
            "376/376 [==============================] - 1s 2ms/step - loss: 1.0000e-07 - acc: 1.0000\n",
            "Epoch 133/150\n",
            "376/376 [==============================] - 1s 2ms/step - loss: 1.0000e-07 - acc: 1.0000\n",
            "Epoch 134/150\n",
            "376/376 [==============================] - 1s 2ms/step - loss: 1.0000e-07 - acc: 1.0000\n",
            "Epoch 135/150\n",
            "376/376 [==============================] - 1s 2ms/step - loss: 1.0000e-07 - acc: 1.0000\n",
            "Epoch 136/150\n",
            "376/376 [==============================] - 1s 2ms/step - loss: 1.0000e-07 - acc: 1.0000\n",
            "Epoch 137/150\n",
            "376/376 [==============================] - 1s 2ms/step - loss: 1.0000e-07 - acc: 1.0000\n",
            "Epoch 138/150\n",
            "376/376 [==============================] - 1s 2ms/step - loss: 1.0000e-07 - acc: 1.0000\n",
            "Epoch 139/150\n",
            "376/376 [==============================] - 1s 2ms/step - loss: 1.0000e-07 - acc: 1.0000\n",
            "Epoch 140/150\n",
            "376/376 [==============================] - 1s 2ms/step - loss: 1.0000e-07 - acc: 1.0000\n",
            "Epoch 141/150\n",
            "376/376 [==============================] - 1s 2ms/step - loss: 1.0000e-07 - acc: 1.0000\n",
            "Epoch 142/150\n",
            "376/376 [==============================] - 1s 2ms/step - loss: 1.0000e-07 - acc: 1.0000\n",
            "Epoch 143/150\n",
            "376/376 [==============================] - 1s 2ms/step - loss: 1.0000e-07 - acc: 1.0000\n",
            "Epoch 144/150\n",
            "376/376 [==============================] - 1s 2ms/step - loss: 1.0000e-07 - acc: 1.0000\n",
            "Epoch 145/150\n",
            "376/376 [==============================] - 1s 2ms/step - loss: 1.0000e-07 - acc: 1.0000\n",
            "Epoch 146/150\n",
            "376/376 [==============================] - 1s 2ms/step - loss: 1.0000e-07 - acc: 1.0000\n",
            "Epoch 147/150\n",
            "376/376 [==============================] - 1s 2ms/step - loss: 1.0000e-07 - acc: 1.0000\n",
            "Epoch 148/150\n",
            "376/376 [==============================] - 1s 2ms/step - loss: 1.0000e-07 - acc: 1.0000\n",
            "Epoch 149/150\n",
            "376/376 [==============================] - 1s 2ms/step - loss: 1.0000e-07 - acc: 1.0000\n",
            "Epoch 150/150\n",
            "376/376 [==============================] - 1s 2ms/step - loss: 1.0000e-07 - acc: 1.0000\n"
          ],
          "name": "stdout"
        },
        {
          "output_type": "execute_result",
          "data": {
            "text/plain": [
              "<keras.callbacks.History at 0x7f4f3042c278>"
            ]
          },
          "metadata": {
            "tags": []
          },
          "execution_count": 97
        }
      ]
    }
  ]
}